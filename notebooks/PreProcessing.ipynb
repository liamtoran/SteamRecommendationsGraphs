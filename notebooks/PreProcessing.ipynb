{
 "cells": [
  {
   "cell_type": "code",
   "execution_count": 1,
   "id": "e0ee66b3-63f1-4766-afc7-dae3196156a7",
   "metadata": {
    "tags": []
   },
   "outputs": [],
   "source": [
    "import os\n",
    "import sys\n",
    "import networkx as nx\n",
    "import numpy as np\n",
    "import pandas as pd\n",
    "import torch"
   ]
  },
  {
   "cell_type": "code",
   "execution_count": 2,
   "id": "ef924c47-6871-4872-afd0-ea9fba4dfc5c",
   "metadata": {
    "tags": []
   },
   "outputs": [],
   "source": [
    "os.chdir('..')\n",
    "sys.path.append('src')"
   ]
  },
  {
   "cell_type": "code",
   "execution_count": 3,
   "id": "f93a3e39-9bbc-44c1-a39b-d115357253e9",
   "metadata": {
    "tags": []
   },
   "outputs": [],
   "source": [
    "# Define the path to the \"data\" directory\n",
    "data_dir = \"data\"\n",
    "\n",
    "# Load the descriptions Parquet file\n",
    "descriptions = pd.read_parquet(os.path.join(data_dir, \"descriptions.parquet\"))\n",
    "\n",
    "# Load the recommendations Parquet file\n",
    "recommendations = pd.read_parquet(os.path.join(data_dir, \"recommendations.parquet\"))\n",
    "\n",
    "# Load the games Parquet file\n",
    "games = pd.read_parquet(os.path.join(data_dir, \"games.parquet\"))"
   ]
  },
  {
   "cell_type": "code",
   "execution_count": 4,
   "id": "d3e3b5ce-5685-4fd8-b633-e8d7605793ab",
   "metadata": {
    "tags": []
   },
   "outputs": [],
   "source": [
    "descriptions = descriptions.rename(columns={\"AppID\": \"app_id\"})\n",
    "games = pd.merge(games, descriptions, on=\"app_id\", how=\"inner\")"
   ]
  },
  {
   "cell_type": "code",
   "execution_count": 5,
   "id": "b876f4df-516c-49f6-a5c9-e305bbd5db1e",
   "metadata": {
    "tags": []
   },
   "outputs": [],
   "source": [
    "# Utils\n",
    "# # Dictionary of all categorical mappings\n",
    "MAPPINGS = {}\n",
    "\n",
    "\n",
    "# # Maps a set / list of unique categories to their index\n",
    "def make_map(categories):\n",
    "    return {x: i for i, x in enumerate(categories)}"
   ]
  },
  {
   "cell_type": "code",
   "execution_count": 6,
   "id": "1bda1fc4-72cd-421f-8150-8af91a3080e6",
   "metadata": {
    "tags": []
   },
   "outputs": [],
   "source": [
    "# Pads and truncates a list of torch tensors\n",
    "def pad_and_truncate(sequences, max_len, padding_value=-1):\n",
    "    # Pads and truncates a list of lists\n",
    "    lengths = [min(len(x), max_len) for x in sequences]\n",
    "\n",
    "    sequences = [torch.Tensor(x) for x in sequences]\n",
    "\n",
    "    for i, tensor in enumerate(sequences):\n",
    "        if tensor.dim() == 0:\n",
    "            sequences[i] = torch.tensor([padding_value])\n",
    "    # Make sure that the max length is at least max_len\n",
    "    sequences.append(torch.zeros(max_len))\n",
    "    # Pad\n",
    "    sequences = torch.nn.utils.rnn.pad_sequence(\n",
    "        sequences, batch_first=True, padding_value=padding_value\n",
    "    )\n",
    "    # Truncate and remove the added torch zeros\n",
    "    sequences = sequences[:-1, :max_len]\n",
    "\n",
    "    # Add 1 so that 0 becomes pad instead\n",
    "    sequences = sequences + 1\n",
    "\n",
    "    lengths = torch.tensor(lengths).int().view(-1, 1)\n",
    "    return sequences, lengths"
   ]
  },
  {
   "cell_type": "markdown",
   "id": "43a47cc0-16c4-48d9-9f6a-c1c9a30269ee",
   "metadata": {},
   "source": [
    "# Data Preprocessing"
   ]
  },
  {
   "cell_type": "code",
   "execution_count": 7,
   "id": "4d5c1854-7e99-4532-aa43-72b6ac4b1695",
   "metadata": {},
   "outputs": [],
   "source": [
    "def preprocess(recommendations, games):\n",
    "    recommendations = recommendations.copy()\n",
    "    games = games.copy()\n",
    "\n",
    "    games[\"app_id\"] = games[\"app_id\"].astype(\"int\")\n",
    "    recommendations[\"app_id\"] = recommendations[\"app_id\"].astype(\"int\")\n",
    "    recommendations[\"user_id\"] = recommendations[\"user_id\"].astype(\"int\")\n",
    "\n",
    "    # Filter the recommendations dataframe to keep only the rows corresponding to games that are in the games dataframe\n",
    "    recommendations = recommendations[recommendations[\"app_id\"].isin(games[\"app_id\"])]\n",
    "\n",
    "    # Merge the resulting dataframe with the games dataframe to get the release dates of the games\n",
    "    recommendations = pd.merge(\n",
    "        recommendations, games[[\"app_id\", \"date_release\"]], on=\"app_id\"\n",
    "    )\n",
    "\n",
    "    # Filter the resulting dataframe to keep only the rows where the game is recommended and where the helpfulness of the review is greater than 1\n",
    "    recommendations = recommendations.query(\"is_recommended == True & helpful > 1\")\n",
    "\n",
    "    # Filter the users to keep only those who have reviewed more than 1 game\n",
    "    s = recommendations.groupby(\"user_id\").count()[\"app_id\"]\n",
    "    filt = s[s > 1]\n",
    "    recommendations = recommendations[recommendations[\"user_id\"].isin(filt.index)]\n",
    "\n",
    "    # Filter the games to only keep those who have at least 5 recommendations\n",
    "    s = recommendations.groupby(\"app_id\").count()[\"user_id\"]\n",
    "    filt = s[s > 5]\n",
    "    recommendations = recommendations[recommendations[\"app_id\"].isin(filt.index)]\n",
    "\n",
    "    # Filter games to keep only those in recommendations\n",
    "    games = games[games[\"app_id\"].isin(recommendations[\"app_id\"])]\n",
    "\n",
    "    return recommendations, games"
   ]
  },
  {
   "cell_type": "code",
   "execution_count": 8,
   "id": "58bfc62b-646f-4a0a-a7ec-1986c18691c2",
   "metadata": {
    "tags": []
   },
   "outputs": [],
   "source": [
    "recommendations, games = preprocess(recommendations, games)"
   ]
  },
  {
   "cell_type": "markdown",
   "id": "7bafe35a-a494-40d8-a732-98865586309b",
   "metadata": {},
   "source": [
    "# Adjencency Matrix creation"
   ]
  },
  {
   "cell_type": "code",
   "execution_count": 9,
   "id": "dd1e00d2-b088-4227-b5dd-dcd68f6c718e",
   "metadata": {
    "tags": []
   },
   "outputs": [],
   "source": [
    "# Map ids to ranges\n",
    "MAPPINGS |= {\n",
    "    \"app\": make_map(\n",
    "        list(recommendations.sort_values(\"date_release\")[\"app_id\"].unique())\n",
    "    )\n",
    "}\n",
    "MAPPINGS |= {\"user\": (make_map(list(recommendations[\"user_id\"].unique())))}\n",
    "\n",
    "# Apply mappings\n",
    "recommendations[\"mapped_appid\"] = recommendations[\"app_id\"].map(MAPPINGS[\"app\"])\n",
    "recommendations[\"mapped_userid\"] = recommendations[\"user_id\"].map(MAPPINGS[\"user\"])\n",
    "\n",
    "games[\"mapped_appid\"] = games[\"app_id\"].map(MAPPINGS[\"app\"])"
   ]
  },
  {
   "cell_type": "code",
   "execution_count": 10,
   "id": "20ba3cd8-6f7f-4cc9-828e-5a3f81ff3c76",
   "metadata": {
    "tags": []
   },
   "outputs": [],
   "source": [
    "def create_app_user_pairs(recommendations):\n",
    "    user_app_pairs = (\n",
    "        recommendations.groupby([\"mapped_userid\", \"mapped_appid\"])\n",
    "        .size()\n",
    "        .unstack(fill_value=0)\n",
    "    )\n",
    "\n",
    "    # Move to sparse representations\n",
    "    user_app_pairs = user_app_pairs.astype(pd.SparseDtype(\"int\", 0))\n",
    "    user_app_pairs = user_app_pairs.sparse.to_coo()\n",
    "\n",
    "    return user_app_pairs\n",
    "\n",
    "\n",
    "user_app_pairs = create_app_user_pairs(recommendations)"
   ]
  },
  {
   "cell_type": "code",
   "execution_count": 11,
   "id": "3ec8d5ad-fdeb-498a-8f79-1e1b45344ee6",
   "metadata": {},
   "outputs": [],
   "source": [
    "edges = user_app_pairs.T.dot(user_app_pairs)"
   ]
  },
  {
   "cell_type": "code",
   "execution_count": 12,
   "id": "112ca677-f87f-434b-98bb-4846268f49fa",
   "metadata": {},
   "outputs": [],
   "source": [
    "edges = edges.toarray()\n",
    "# Remove self references\n",
    "np.fill_diagonal(edges, 0)"
   ]
  },
  {
   "cell_type": "code",
   "execution_count": 13,
   "id": "50d03eff-6dca-4965-99bb-9619f8ae00ba",
   "metadata": {
    "tags": []
   },
   "outputs": [
    {
     "data": {
      "text/plain": [
       "array([[  0, 266,  68, ...,   0,   0,   0],\n",
       "       [266,   0,  70, ...,   1,   0,   0],\n",
       "       [ 68,  70,   0, ...,   0,   0,   0],\n",
       "       ...,\n",
       "       [  0,   1,   0, ...,   0,   0,   0],\n",
       "       [  0,   0,   0, ...,   0,   0,   0],\n",
       "       [  0,   0,   0, ...,   0,   0,   0]])"
      ]
     },
     "execution_count": 13,
     "metadata": {},
     "output_type": "execute_result"
    }
   ],
   "source": [
    "edges"
   ]
  },
  {
   "cell_type": "code",
   "execution_count": 14,
   "id": "6ea97f53-cdf8-455d-9595-929540f20c48",
   "metadata": {},
   "outputs": [],
   "source": [
    "# Make sure the above sorcery checks out\n",
    "assert (\n",
    "    recommendations.query(\"mapped_appid <2\").copy().groupby(\"user_id\").count()[\"app_id\"]\n",
    "    > 1\n",
    ").sum() == edges[0, 1]"
   ]
  },
  {
   "cell_type": "code",
   "execution_count": 15,
   "id": "7632ffa1-6843-4595-8980-96472fffa72f",
   "metadata": {
    "tags": []
   },
   "outputs": [
    {
     "data": {
      "text/plain": [
       "0.07919158675532093"
      ]
     },
     "execution_count": 15,
     "metadata": {},
     "output_type": "execute_result"
    }
   ],
   "source": [
    "# When taking threshold 0.005% of reviews, on average each node will be connected to 8% of nodes\n",
    "(edges.dot(np.diag(1 / edges.sum(axis=1))) > 0.005).mean()"
   ]
  },
  {
   "cell_type": "code",
   "execution_count": 16,
   "id": "d19c7ffe-f84a-410b-a8b9-f151cd3fbd86",
   "metadata": {
    "tags": []
   },
   "outputs": [],
   "source": [
    "edges = edges.dot(np.diag(1 / edges.sum(axis=1))) > 0.005"
   ]
  },
  {
   "cell_type": "markdown",
   "id": "97f7b358-fd77-4184-b458-4b5d0003983b",
   "metadata": {},
   "source": [
    "# Features Creation"
   ]
  },
  {
   "cell_type": "code",
   "execution_count": 17,
   "id": "143fd376-a406-4eb8-8a65-ab3144807c19",
   "metadata": {
    "tags": []
   },
   "outputs": [],
   "source": [
    "features_cols = [\n",
    "    \"mapped_appid\",\n",
    "    \"title\",\n",
    "    \"date_release\",\n",
    "    \"price_original\",\n",
    "    \"Developers\",\n",
    "    \"Genres\",\n",
    "    \"Tags\",\n",
    "    \"About the game\",\n",
    "]\n",
    "features = games[features_cols].set_index(\"mapped_appid\")"
   ]
  },
  {
   "cell_type": "code",
   "execution_count": 18,
   "id": "39dfc455-c85f-4e9e-87ff-89a8287c6ba4",
   "metadata": {
    "tags": []
   },
   "outputs": [],
   "source": [
    "features = features.sort_index()"
   ]
  },
  {
   "cell_type": "code",
   "execution_count": 19,
   "id": "1b800850-9401-47e3-a70e-cf1996f88711",
   "metadata": {
    "tags": []
   },
   "outputs": [
    {
     "data": {
      "text/html": [
       "<div>\n",
       "<style scoped>\n",
       "    .dataframe tbody tr th:only-of-type {\n",
       "        vertical-align: middle;\n",
       "    }\n",
       "\n",
       "    .dataframe tbody tr th {\n",
       "        vertical-align: top;\n",
       "    }\n",
       "\n",
       "    .dataframe thead th {\n",
       "        text-align: right;\n",
       "    }\n",
       "</style>\n",
       "<table border=\"1\" class=\"dataframe\">\n",
       "  <thead>\n",
       "    <tr style=\"text-align: right;\">\n",
       "      <th></th>\n",
       "      <th>title</th>\n",
       "      <th>date_release</th>\n",
       "      <th>price_original</th>\n",
       "      <th>Developers</th>\n",
       "      <th>Genres</th>\n",
       "      <th>Tags</th>\n",
       "      <th>About the game</th>\n",
       "    </tr>\n",
       "    <tr>\n",
       "      <th>mapped_appid</th>\n",
       "      <th></th>\n",
       "      <th></th>\n",
       "      <th></th>\n",
       "      <th></th>\n",
       "      <th></th>\n",
       "      <th></th>\n",
       "      <th></th>\n",
       "    </tr>\n",
       "  </thead>\n",
       "  <tbody>\n",
       "    <tr>\n",
       "      <th>341</th>\n",
       "      <td>Shop Titans</td>\n",
       "      <td>2020-05-05</td>\n",
       "      <td>0.00</td>\n",
       "      <td>Kabam Games, Inc.</td>\n",
       "      <td>Adventure,Casual,Free to Play,RPG,Simulation</td>\n",
       "      <td>Free to Play,Simulation,RPG,Adventure,Casual,M...</td>\n",
       "      <td>As a thriving new shop owner in a bustling adv...</td>\n",
       "    </tr>\n",
       "    <tr>\n",
       "      <th>467</th>\n",
       "      <td>FOREWARNED</td>\n",
       "      <td>2021-09-10</td>\n",
       "      <td>12.99</td>\n",
       "      <td>Dreambyte Games</td>\n",
       "      <td>Action,Adventure,Indie,Early Access</td>\n",
       "      <td>Horror,Online Co-Op,Survival Horror,Co-op,Mult...</td>\n",
       "      <td>Having long studied ancient Egyptian lore, you...</td>\n",
       "    </tr>\n",
       "    <tr>\n",
       "      <th>244</th>\n",
       "      <td>The Jackbox Party Pack 5</td>\n",
       "      <td>2018-10-17</td>\n",
       "      <td>29.99</td>\n",
       "      <td>Jackbox Games, Inc.</td>\n",
       "      <td>Casual</td>\n",
       "      <td>Casual,Local Multiplayer,Comedy,Trivia,Funny,M...</td>\n",
       "      <td>It’s the biggest Party Pack yet with five part...</td>\n",
       "    </tr>\n",
       "    <tr>\n",
       "      <th>427</th>\n",
       "      <td>NieR Replicant™ ver.1.22474487139...</td>\n",
       "      <td>2021-04-23</td>\n",
       "      <td>59.99</td>\n",
       "      <td>Square Enix,Toylogic Inc.</td>\n",
       "      <td>Action,Adventure,RPG</td>\n",
       "      <td>Great Soundtrack,Story Rich,Action,RPG,Adventu...</td>\n",
       "      <td>A thousand-year lie that would live on for ete...</td>\n",
       "    </tr>\n",
       "    <tr>\n",
       "      <th>82</th>\n",
       "      <td>Total War: ATTILA</td>\n",
       "      <td>2015-02-17</td>\n",
       "      <td>44.99</td>\n",
       "      <td>CREATIVE ASSEMBLY</td>\n",
       "      <td>Strategy</td>\n",
       "      <td>Strategy,Historical,War,Turn-Based Strategy,Gr...</td>\n",
       "      <td>Against a darkening background of famine, dise...</td>\n",
       "    </tr>\n",
       "  </tbody>\n",
       "</table>\n",
       "</div>"
      ],
      "text/plain": [
       "                                             title date_release  \\\n",
       "mapped_appid                                                      \n",
       "341                                    Shop Titans   2020-05-05   \n",
       "467                                     FOREWARNED   2021-09-10   \n",
       "244                       The Jackbox Party Pack 5   2018-10-17   \n",
       "427           NieR Replicant™ ver.1.22474487139...   2021-04-23   \n",
       "82                               Total War: ATTILA   2015-02-17   \n",
       "\n",
       "              price_original                 Developers  \\\n",
       "mapped_appid                                              \n",
       "341                     0.00          Kabam Games, Inc.   \n",
       "467                    12.99            Dreambyte Games   \n",
       "244                    29.99        Jackbox Games, Inc.   \n",
       "427                    59.99  Square Enix,Toylogic Inc.   \n",
       "82                     44.99          CREATIVE ASSEMBLY   \n",
       "\n",
       "                                                    Genres  \\\n",
       "mapped_appid                                                 \n",
       "341           Adventure,Casual,Free to Play,RPG,Simulation   \n",
       "467                    Action,Adventure,Indie,Early Access   \n",
       "244                                                 Casual   \n",
       "427                                   Action,Adventure,RPG   \n",
       "82                                                Strategy   \n",
       "\n",
       "                                                           Tags  \\\n",
       "mapped_appid                                                      \n",
       "341           Free to Play,Simulation,RPG,Adventure,Casual,M...   \n",
       "467           Horror,Online Co-Op,Survival Horror,Co-op,Mult...   \n",
       "244           Casual,Local Multiplayer,Comedy,Trivia,Funny,M...   \n",
       "427           Great Soundtrack,Story Rich,Action,RPG,Adventu...   \n",
       "82            Strategy,Historical,War,Turn-Based Strategy,Gr...   \n",
       "\n",
       "                                                 About the game  \n",
       "mapped_appid                                                     \n",
       "341           As a thriving new shop owner in a bustling adv...  \n",
       "467           Having long studied ancient Egyptian lore, you...  \n",
       "244           It’s the biggest Party Pack yet with five part...  \n",
       "427           A thousand-year lie that would live on for ete...  \n",
       "82            Against a darkening background of famine, dise...  "
      ]
     },
     "execution_count": 19,
     "metadata": {},
     "output_type": "execute_result"
    }
   ],
   "source": [
    "features.sample(n=5)"
   ]
  },
  {
   "cell_type": "markdown",
   "id": "b122330d-95f4-47ef-ba2a-9a5487a77c02",
   "metadata": {
    "tags": []
   },
   "source": [
    "## Price"
   ]
  },
  {
   "cell_type": "markdown",
   "id": "513db3bf-054a-42ca-98cf-d8e696c24c73",
   "metadata": {},
   "source": [
    "Divide the price by 5 and round to nearest integer"
   ]
  },
  {
   "cell_type": "code",
   "execution_count": 20,
   "id": "0467a0bc-7431-4bb5-9700-fcc3088ccdb3",
   "metadata": {
    "tags": []
   },
   "outputs": [],
   "source": [
    "features[\"_price\"] = (features[\"price_original\"] / 5).round().astype(int)"
   ]
  },
  {
   "cell_type": "markdown",
   "id": "487afd4f-a352-47d7-841a-6ddb9ba2d3be",
   "metadata": {
    "tags": []
   },
   "source": [
    "## Developer"
   ]
  },
  {
   "cell_type": "markdown",
   "id": "5377dc86-8f84-4837-82a7-d1c700c81889",
   "metadata": {},
   "source": [
    "Categorical"
   ]
  },
  {
   "cell_type": "code",
   "execution_count": 21,
   "id": "11de6963-b80f-4a38-9a90-a126758f08d7",
   "metadata": {
    "tags": []
   },
   "outputs": [],
   "source": [
    "MAPPINGS |= {\"developper\": make_map(features[\"Developers\"].unique())}"
   ]
  },
  {
   "cell_type": "code",
   "execution_count": 22,
   "id": "b3d5c01f-0e49-4437-9422-b781ab209ce9",
   "metadata": {
    "tags": []
   },
   "outputs": [],
   "source": [
    "features[\"_developer\"] = features[\"Developers\"].map(MAPPINGS[\"developper\"])"
   ]
  },
  {
   "cell_type": "markdown",
   "id": "0c2af57e-9c91-4afb-b946-e41fe59c0317",
   "metadata": {
    "tags": []
   },
   "source": [
    "## Genres"
   ]
  },
  {
   "cell_type": "code",
   "execution_count": 23,
   "id": "b3cf4674-70d8-4756-b5e4-b97ab9180b8c",
   "metadata": {
    "tags": []
   },
   "outputs": [],
   "source": [
    "# Inperfect: Remove Early Access tag from later games\n",
    "features[\"Genres\"] = features[\"Genres\"].str.replace(\",Early Access\", \"\")"
   ]
  },
  {
   "cell_type": "code",
   "execution_count": 24,
   "id": "00624bfc-365f-4a8b-b223-1333f8a90206",
   "metadata": {
    "tags": []
   },
   "outputs": [],
   "source": [
    "def get_tensor_from_category_enumerations(col, seq_len):\n",
    "    # This is a bit inefficient but will do with this size of data\n",
    "    categories = set()\n",
    "    categories.update(*list(features[col].str.split(\",\")))\n",
    "\n",
    "    map_categories = make_map(categories)\n",
    "    global MAPPINGS\n",
    "    MAPPINGS |= {col: map_categories}\n",
    "\n",
    "    # This is a bit inefficient but will do with this size of data\n",
    "    categories_vec = list(\n",
    "        features[col].str.split(\",\").apply(lambda l: [map_categories[x] for x in l])\n",
    "    )\n",
    "\n",
    "    categories_tensor = pad_and_truncate(categories_vec, seq_len)\n",
    "    return categories_tensor"
   ]
  },
  {
   "cell_type": "code",
   "execution_count": 25,
   "id": "20d12bcb-0150-412b-8fb8-fd6f7b4d7ec5",
   "metadata": {
    "tags": []
   },
   "outputs": [],
   "source": [
    "from params import GENRES_SEQ_LEN\n",
    "\n",
    "genres_tensor = get_tensor_from_category_enumerations(\"Genres\", GENRES_SEQ_LEN)"
   ]
  },
  {
   "cell_type": "markdown",
   "id": "9d6fae91-f377-4eee-bcb2-b11030ad5df8",
   "metadata": {},
   "source": [
    "## Tags"
   ]
  },
  {
   "cell_type": "markdown",
   "id": "ab437cae-334c-453b-8940-db4b75a9fbc9",
   "metadata": {},
   "source": [
    "Very similar to genres"
   ]
  },
  {
   "cell_type": "code",
   "execution_count": 26,
   "id": "b2d6a184-66fd-4621-a44c-f74f85bb61e9",
   "metadata": {
    "tags": []
   },
   "outputs": [],
   "source": [
    "features[\"Tags\"] = features[\"Tags\"].fillna(\"NoTags\")"
   ]
  },
  {
   "cell_type": "code",
   "execution_count": 27,
   "id": "6d1b3322-14e0-4f37-bd0f-d821d88b3598",
   "metadata": {
    "tags": []
   },
   "outputs": [],
   "source": [
    "from params import TAGS_SEQ_LEN\n",
    "\n",
    "tags_tensor = get_tensor_from_category_enumerations(\"Tags\", TAGS_SEQ_LEN)"
   ]
  },
  {
   "cell_type": "markdown",
   "id": "aaf81994-962c-47d2-92af-2d26e7aaf7b6",
   "metadata": {
    "tags": []
   },
   "source": [
    "## \"About the game\" section"
   ]
  },
  {
   "cell_type": "markdown",
   "id": "f315329f-180b-4767-b9d5-3bc93e43141f",
   "metadata": {},
   "source": [
    "Using a TF-IDF weighted - fasttext embedding"
   ]
  },
  {
   "cell_type": "code",
   "execution_count": 28,
   "id": "dfaf2ae7-d14e-4708-bf0d-4b5ad6aa96f7",
   "metadata": {},
   "outputs": [],
   "source": [
    "del descriptions\n",
    "del games\n",
    "del recommendations"
   ]
  },
  {
   "cell_type": "code",
   "execution_count": 29,
   "id": "1e29d1b2-f888-4b4d-a3b2-d3fe7fdc6148",
   "metadata": {
    "tags": []
   },
   "outputs": [],
   "source": [
    "import gensim"
   ]
  },
  {
   "cell_type": "code",
   "execution_count": 30,
   "id": "c444b978-bbf4-4238-8a04-6f1a82d27de0",
   "metadata": {
    "tags": []
   },
   "outputs": [],
   "source": [
    "embedding = gensim.models.fasttext.load_facebook_model(\"wiki.en/wiki.en.bin\")"
   ]
  },
  {
   "cell_type": "code",
   "execution_count": 32,
   "id": "ab8a5a8e-5ffb-4edf-aff3-0fa39d253f5a",
   "metadata": {
    "tags": []
   },
   "outputs": [],
   "source": [
    "documents = list(features[\"About the game\"])"
   ]
  },
  {
   "cell_type": "code",
   "execution_count": 33,
   "id": "aee8f75b-d515-43d5-8656-7176e39f4866",
   "metadata": {
    "tags": []
   },
   "outputs": [],
   "source": [
    "from gensim.corpora import Dictionary\n",
    "from gensim.models import TfidfModel\n"
   ]
  },
  {
   "cell_type": "code",
   "execution_count": 36,
   "id": "a2d87eca-f23a-4e72-b497-af1ab98371d0",
   "metadata": {
    "tags": []
   },
   "outputs": [],
   "source": [
    "documents = [\"None\" if doc is None else doc for doc in documents]"
   ]
  },
  {
   "cell_type": "code",
   "execution_count": 37,
   "id": "e83408af-8409-4133-ba5a-73b19b740cc8",
   "metadata": {
    "tags": []
   },
   "outputs": [],
   "source": [
    "tokenized_docs = [doc.lower().split() for doc in documents]"
   ]
  },
  {
   "cell_type": "code",
   "execution_count": 38,
   "id": "1b4200b0-aeae-4e5c-8305-f49d372d8dad",
   "metadata": {
    "tags": []
   },
   "outputs": [],
   "source": [
    "# Create a dictionary from the tokenized documents\n",
    "dictionary = Dictionary(tokenized_docs)\n",
    "\n",
    "# Create a bag of words (BoW) representation for each document\n",
    "corpus = [dictionary.doc2bow(doc) for doc in tokenized_docs]\n",
    "\n",
    "# Fit the TfidfModel using the BoW corpus\n",
    "tfidf_model = TfidfModel(corpus)"
   ]
  },
  {
   "cell_type": "code",
   "execution_count": 40,
   "id": "e7b1e417-569a-4e99-ba8d-31c2e9895fcf",
   "metadata": {
    "tags": []
   },
   "outputs": [],
   "source": [
    "import numpy as np\n",
    "\n",
    "def get_tfidf_weighted_embeddings(tfidf_model, corpus, fasttext_model, dictionary):\n",
    "    weighted_embeddings = []\n",
    "    \n",
    "    for doc_bow in corpus:\n",
    "        tfidf_scores = dict(tfidf_model[doc_bow])\n",
    "        doc_embedding = np.zeros(fasttext_model.vector_size)\n",
    "        total_weight = 0\n",
    "        \n",
    "        for word_id, tfidf_score in tfidf_scores.items():\n",
    "            word = dictionary[word_id]\n",
    "            if word in fasttext_model.wv:\n",
    "                word_embedding = fasttext_model.wv[word]\n",
    "                doc_embedding += word_embedding * tfidf_score\n",
    "                total_weight += tfidf_score\n",
    "        \n",
    "        if total_weight > 0:\n",
    "            doc_embedding /= total_weight\n",
    "        \n",
    "        weighted_embeddings.append(doc_embedding)\n",
    "    \n",
    "    return np.array(weighted_embeddings)\n",
    "\n",
    "weighted_embeddings = get_tfidf_weighted_embeddings(tfidf_model, corpus, embedding, dictionary)\n"
   ]
  },
  {
   "cell_type": "code",
   "execution_count": 42,
   "id": "8eaa88c2-d24c-43a4-b490-574235a98491",
   "metadata": {
    "tags": []
   },
   "outputs": [
    {
     "data": {
      "text/plain": [
       "(692, 300)"
      ]
     },
     "execution_count": 42,
     "metadata": {},
     "output_type": "execute_result"
    }
   ],
   "source": [
    "weighted_embeddings.shape"
   ]
  },
  {
   "cell_type": "markdown",
   "id": "5d4c4ccc-1108-4292-833f-3f76f4598ab3",
   "metadata": {},
   "source": [
    "# Write to disk"
   ]
  },
  {
   "cell_type": "code",
   "execution_count": 43,
   "id": "92854518-acd8-4f96-8d21-03ff1a6748bb",
   "metadata": {
    "tags": []
   },
   "outputs": [],
   "source": [
    "output_dir = \"run_artifacts/preprocess\"\n",
    "if not os.path.exists(output_dir):\n",
    "    os.makedirs(output_dir)"
   ]
  },
  {
   "cell_type": "code",
   "execution_count": 44,
   "id": "c4ab5275-3364-4650-a2da-e0c52055c333",
   "metadata": {
    "tags": []
   },
   "outputs": [],
   "source": [
    "## edges"
   ]
  },
  {
   "cell_type": "code",
   "execution_count": 45,
   "id": "a85b1aa8-92dc-48f6-add3-27b51a0113ec",
   "metadata": {
    "tags": []
   },
   "outputs": [],
   "source": [
    "pd.DataFrame(edges).to_csv(f\"{output_dir}/edges.csv\")"
   ]
  },
  {
   "cell_type": "code",
   "execution_count": 46,
   "id": "50063d2d-1dc6-4db6-bc77-fbb285748e4a",
   "metadata": {
    "tags": []
   },
   "outputs": [],
   "source": [
    "## mappings"
   ]
  },
  {
   "cell_type": "code",
   "execution_count": 47,
   "id": "d2ce3073-5ed5-49a7-b450-54b9020a3d93",
   "metadata": {
    "tags": []
   },
   "outputs": [],
   "source": [
    "MAPPINGS[\"app\"] = {int(a): int(b) for a, b in enumerate(MAPPINGS[\"app\"])}\n",
    "MAPPINGS[\"user\"] = {int(a): int(b) for a, b in enumerate(MAPPINGS[\"user\"])}"
   ]
  },
  {
   "cell_type": "code",
   "execution_count": 48,
   "id": "94bb71a5-f6ef-4f9c-8df8-cfadc19680fe",
   "metadata": {
    "tags": []
   },
   "outputs": [],
   "source": [
    "import json"
   ]
  },
  {
   "cell_type": "code",
   "execution_count": 49,
   "id": "1dc50248-1192-4d77-910a-b7b68aac42e4",
   "metadata": {
    "tags": []
   },
   "outputs": [],
   "source": [
    "with open(f\"{output_dir}/mappings.json\", \"w\") as f:\n",
    "    json.dump(MAPPINGS, f)"
   ]
  },
  {
   "cell_type": "code",
   "execution_count": 50,
   "id": "c44f397b-7e31-45ce-a463-4182b0b7e1fa",
   "metadata": {
    "tags": []
   },
   "outputs": [],
   "source": [
    "## features + edges as labels"
   ]
  },
  {
   "cell_type": "code",
   "execution_count": 51,
   "id": "e7ecd9e5-9153-490c-935a-4d57f489fbc3",
   "metadata": {
    "tags": []
   },
   "outputs": [],
   "source": [
    "t1 = torch.Tensor(features[[x for x in features.columns if x[0] == \"_\"]].values).int()"
   ]
  },
  {
   "cell_type": "code",
   "execution_count": 52,
   "id": "b1e7c1bd-081f-4968-bcb5-7a0e93a76a9f",
   "metadata": {
    "tags": []
   },
   "outputs": [],
   "source": [
    "X = torch.cat((t1, *genres_tensor, *tags_tensor), dim=1)"
   ]
  },
  {
   "cell_type": "code",
   "execution_count": 53,
   "id": "d4876d1f-ecc7-4d24-adfb-3765481a73d2",
   "metadata": {
    "tags": []
   },
   "outputs": [],
   "source": [
    "dataset = torch.utils.data.TensorDataset(X, torch.Tensor(edges).bool())\n",
    "torch.save(dataset, f\"{output_dir}/dataset.t\")"
   ]
  },
  {
   "cell_type": "code",
   "execution_count": null,
   "id": "d5fad526-99a1-4119-be8a-588cd47a40b0",
   "metadata": {},
   "outputs": [],
   "source": [
    "weighted_embeddigns"
   ]
  },
  {
   "cell_type": "code",
   "execution_count": null,
   "id": "3b107ff3-550b-45a5-92a5-95710744082e",
   "metadata": {},
   "outputs": [],
   "source": []
  }
 ],
 "metadata": {
  "kernelspec": {
   "display_name": "Python 3 (ipykernel)",
   "language": "python",
   "name": "python3"
  },
  "language_info": {
   "codemirror_mode": {
    "name": "ipython",
    "version": 3
   },
   "file_extension": ".py",
   "mimetype": "text/x-python",
   "name": "python",
   "nbconvert_exporter": "python",
   "pygments_lexer": "ipython3",
   "version": "3.10.10"
  }
 },
 "nbformat": 4,
 "nbformat_minor": 5
}

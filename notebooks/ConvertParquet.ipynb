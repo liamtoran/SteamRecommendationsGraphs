{
 "cells": [
  {
   "cell_type": "code",
   "execution_count": 9,
   "id": "1b2249f2-b347-4c04-90ee-f0c4d53f0af7",
   "metadata": {
    "tags": []
   },
   "outputs": [
    {
     "name": "stdout",
     "output_type": "stream",
     "text": [
      "Converted descriptions.csv to Parquet format.\n",
      "Converted users.csv to Parquet format.\n",
      "Converted recommendations.csv to Parquet format.\n",
      "Converted games.csv to Parquet format.\n"
     ]
    }
   ],
   "source": [
    "import os\n",
    "import pandas as pd\n",
    "\n",
    "# Set the folder containing the .csv files\n",
    "folder_path = \"data\"\n",
    "\n",
    "# Loop through all files in the folder\n",
    "for file_name in os.listdir(folder_path):\n",
    "    if file_name.endswith(\".csv\"):\n",
    "        # Load the .sv file into a DataFrame\n",
    "        df = pd.read_csv(os.path.join(folder_path, file_name))\n",
    "        \n",
    "        # Construct the output file path for the Parquet file\n",
    "        output_file_path = os.path.join(folder_path, file_name[:-3] + \"parquet\")\n",
    "        \n",
    "        # Convert the DataFrame to Parquet format and save to file\n",
    "        df.to_parquet(output_file_path)\n",
    "        \n",
    "        print(f\"Converted {file_name} to Parquet format.\")"
   ]
  },
  {
   "cell_type": "code",
   "execution_count": null,
   "id": "1f2405e9-8378-445a-8ae5-ec0733c6fd09",
   "metadata": {},
   "outputs": [],
   "source": []
  }
 ],
 "metadata": {
  "kernelspec": {
   "display_name": "PytorchGeometricTemporal",
   "language": "python",
   "name": "pygt"
  },
  "language_info": {
   "codemirror_mode": {
    "name": "ipython",
    "version": 3
   },
   "file_extension": ".py",
   "mimetype": "text/x-python",
   "name": "python",
   "nbconvert_exporter": "python",
   "pygments_lexer": "ipython3",
   "version": "3.10.10"
  }
 },
 "nbformat": 4,
 "nbformat_minor": 5
}
